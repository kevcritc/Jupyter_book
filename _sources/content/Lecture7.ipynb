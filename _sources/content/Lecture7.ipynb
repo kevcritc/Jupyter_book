{
 "cells": [
  {
   "cell_type": "markdown",
   "id": "e1be2e0d",
   "metadata": {},
   "source": [
    "## 8. Quantum Mechanics and Electronic Structure\n",
    "\n",
    "## 8.1 Why the Wavefunction Squared?\n",
    "- The solutions to the Schrödinger equation are complex functions with imaginary components.\n",
    "- To extract a measurable probability, we use **Max Born’s probability density**, which is the absolute square of the wavefunction.\n",
    "- The probability of finding a particle at a given position is given by:\n",
    "  \n",
    "  $$ P(x) \\propto |\\psi(x)|^2 = \\psi^*(x) \\psi(x) $$\n",
    "  \n",
    "  where $\\psi^*(x)$ is the complex conjugate of $\\psi(x)\\$.\n",
    "  \n",
    "## 8.2 Schrödinger Equation and Its Solutions\n",
    "- The **Schrödinger equation** is a fundamental equation in quantum mechanics that describes how the wavefunction of a system evolves.\n",
    "- It provides **two key pieces of information**:\n",
    "  1. **Energy eigenvalues (E)** - These are the allowed energy levels of the system.\n",
    "  2. **Eigenfunctions (ψ)** - These are the wavefunctions that describe the quantum states of the system.\n",
    "- The general time-independent Schrödinger equation is:\n",
    "  \n",
    " $$\n",
    "  \\hat{H} \\psi = E \\psi\n",
    " $$\n",
    "  \n",
    "  where $\\hat{H}$ is the Hamiltonian operator representing the total energy of the system.\n",
    "\n"
   ]
  },
  {
   "cell_type": "markdown",
   "id": "67ef0e82",
   "metadata": {},
   "source": []
  },
  {
   "cell_type": "markdown",
   "id": "26f222c0",
   "metadata": {},
   "source": [
    "### 8.3 Quantum Numbers and Electron Configuration\n",
    "- **Principal Quantum Number (n)**: Defines the energy level/shell (e.g., 1, 2, 3, ...)\n",
    "- **Orbital Quantum Number (l)**: Defines the shape of the orbital (s, p, d, f) or  (l=0 ..n-1)\n",
    "- **Magnetic Quantum Number (m_l)**: Defines the orientation of the orbital (-l ..l)\n",
    "- **Spin Quantum Number (s)**: Defines the spin of the electron (+1/2 or -1/2)\n",
    "\n",
    "### 8.4 Pauli Exclusion Principle\n",
    "- No two electrons in an atom can have the same set of quantum numbers.\n",
    "- This limits each orbital to hold **only two electrons** with opposite spins.\n",
    "\n",
    "#### 8.4.1 Example: Electronic Configuration of Sodium (Z=11)\n",
    "1. Sodium has 11 electrons.\n",
    "2. Following the **Aufbau Principle** (filling lower energy levels first):\n",
    "   - 1$s^2$\n",
    "   - 2$s^2$\n",
    "   - 2$p^6$\n",
    "   - 3$s^1$\n",
    "   \n",
    "   Final configuration: 1$s^2$ 2$s^2$ 2$p^6$ 3$s^1$\n",
    "\n",
    "### 8.5 Electron Shielding and Orbital Energy\n",
    "- Inner electrons **shield** outer electrons from the full nuclear charge.\n",
    "- **s-orbitals** penetrate closer to the nucleus than **p-orbitals**, causing energy shifts.\n",
    "\n",
    "#### 8.5.1 Test yourself\n",
    "\n",
    "Which has higher energy, a 3d or a 4s orbital? Why?\n"
   ]
  },
  {
   "cell_type": "markdown",
   "id": "a929ecdb",
   "metadata": {},
   "source": [
    "<details>\n",
    "  <summary>**Click for A  Solution**</summary>\n",
    "\n",
    "    **Solution:** Due to shielding effects, the 4s orbital is **lower in energy** than the 3d orbital in a neutral atom, leading to it filling first. However, when ionizing, the 4s electrons are removed first because they are higher in energy when considering electron repulsion.\n",
    "\n",
    "\n",
    "</details>"
   ]
  },
  {
   "cell_type": "markdown",
   "id": "951ffa23",
   "metadata": {},
   "source": [
    "---\n",
    "### 8.6 Hund’s Rule of Maximum Multiplicity\n",
    "- Electrons prefer to occupy **separate orbitals** within a subshell before pairing up.\n",
    "- This minimizes **electron repulsion** and stabilizes the atom.\n",
    "\n",
    "#### 8.6.1 Example\n",
    "For oxygen (Z=8), the **2p orbitals** are filled as:\n",
    "\n",
    "First the 1s is filled $\\uparrow \\downarrow$\n",
    "then the 2s is filled $\\uparrow \\downarrow$\n",
    "\n",
    "$$ \\uparrow \\downarrow ,  \\uparrow  ,  \\uparrow $$\n",
    "\n",
    "instead of pairing up electrons in the same orbital too soon.  \n",
    "\n",
    "\n",
    "### 8.7 Main Takeaways from the Lecture\n",
    "- The Schrödinger equation provides solutions that describe both the **allowed energy levels** and **wavefunctions** of a system.\n",
    "- Quantum numbers define the **energy, shape, orientation, and spin** of an electron in an atom.\n",
    "- The **Pauli exclusion principle** and **Hund’s rule** govern electron configurations and orbital filling.\n",
    "- **Electron shielding** affects energy levels, leading to deviations from simple filling rules.\n",
    "\n"
   ]
  }
 ],
 "metadata": {
  "kernelspec": {
   "display_name": "Python 3 (ipykernel)",
   "language": "python",
   "name": "python3"
  },
  "language_info": {
   "codemirror_mode": {
    "name": "ipython",
    "version": 3
   },
   "file_extension": ".py",
   "mimetype": "text/x-python",
   "name": "python",
   "nbconvert_exporter": "python",
   "pygments_lexer": "ipython3",
   "version": "3.10.9"
  }
 },
 "nbformat": 4,
 "nbformat_minor": 5
}
