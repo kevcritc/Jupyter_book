{
 "cells": [
  {
   "attachments": {},
   "cell_type": "markdown",
   "id": "df7b770b-abfc-441d-94ec-6ab1802fd89f",
   "metadata": {},
   "source": [
    "# 21. Exam Feedback from 2025\n",
    "\n",
    "## 21.1 Section A  \n",
    "- Section A comprised of a set of 5 Mark questions which generally require the students to address a few points, draw a diagram with particular elements included, or perform a calculation through the manipulation of an equation.\n",
    "\n",
    "### 21.1.1 Question 1\n",
    "\n",
    "The first question required you to describe the importance of miniturisation by clearly stating that it is making devices or machines smaller while performing the same or better. You would then state some advantages in your discussion 'weight' 'less material' 'higher functionality' etc would all have been suitable. Answers to this bit where mixed some just lacking clairty or just not stating any advantages at all.  Examples used by most where done well e.g. smart phone and computer.  I hoped to see more variety but this is probably due to the focus on the examples in the lectures.  Most scored well on this question.\n",
    "\n",
    "### 21.1.2 Question 2 \n",
    "\n",
    "This question was either done well or very badly with little inbetween.  The question was about scaling laws and used an example of bending a football through the air.  Recognising what parameters scale and which ones do not was the challenge.  Those who got this wrong generally thought that parameters such as speed scaled with size leading to the wrong answer in the first part.  Some found the scaling for the force and not the acceleration - they lost a mark.  The second part was to calculate the change with scale.  As long as the calculation was clear, marks were not lost if part i's answer was incorrect.  Many people did arrive at the correct answer. I hoped that it would be recognised that a smaller ball would increase the acceleration - bend would be stronger effect.  This is generally observed in sport cricket ball, table tennis, tennis ball. Getting a numerial answer correct approximately 35 $ \\text{m} \\text{s}^{-1} $.  \n",
    "\n",
    "### 21.1.3 Question 3  \n",
    "\n",
    "Most answered this well.  You need to describe the three Bohr postulates and enhance it with diagrams and relevant equations to get all five marks.  \n",
    "\n",
    "\n",
    "### 21.1.4 Question 4  \n",
    "\n",
    "Almost everyone was able to answer this question.  You had to describe what wave-particle duality is.  Then describe an experiment such as double slit experiment making it clear when there is particle and wave behaviour being observed.  Some marks were lost just for not making one of these observations clear.  Two different experiments was accepted. A statement about how wave-particle duality and its use for the developemnt of quantum mechanics gave a final mark.\n",
    "\n",
    "### 21.1.5 Question 5\n",
    "\n",
    "Here you need to describe the shape of the CNT.  State the hexagonal arrangement of carbon atoms.  Mention $ \\text {sp}^2 $ bonding.  Then mention two applications e.g. in sport equipment due to mechanical strength etc. and link to why they are good for the application.\n",
    "Most obtain a majority of marks but missed the hybrid bonding.\n",
    "\n",
    "### 21.1.6 Question 6\n",
    "\n",
    "State what SPR is by describing the oscillation of electrons matching the frequency of the em source.  State that increasing size redshifts the SPR WL. State that changing the shape can give longer WL and/or additional SPR bands. Name an application and how the SPR property is useful.   Most obtained at least 3 marks, but typically missed the effects of  both size or shape.\n",
    "\n",
    "### 21.1.7 Question 7  \n",
    "Describe an amino acid structure. Describe formation of peptide. Assembly into alpha helix and beta sheets, then assembly into protein shape.  Describe or name a protein and it's function e.g.  hemoglobin is an iron rich protein which carries oxygen around the body - there are hundreds if not thousands of possible answers.  Most described the aminoacid but few described the primary, secondary and tertiary assemblies.  Most said something vague like proteins repair cells which was not great but I was generous as this is a physics module.\n",
    "\n",
    "### 21.1.8 Question 8\n",
    "Most answered the targeted drug delivery question well.  I was expecting something about active and passive targeting, something about lower dose, fewer side effects.  Some mention of how the targeting is achieved.  An example - was expecting something like the polymer conjugates but many discussed gold nanoparticle treatments which I accepted even though it is not really a 'drug' and certainly not a treatment used in the clinic.  \n",
    "\n",
    "\n",
    "\n",
    "\n"
   ]
  }
 ],
 "metadata": {
  "kernelspec": {
   "display_name": "Python 3 (ipykernel)",
   "language": "python",
   "name": "python3"
  },
  "language_info": {
   "codemirror_mode": {
    "name": "ipython",
    "version": 3
   },
   "file_extension": ".py",
   "mimetype": "text/x-python",
   "name": "python",
   "nbconvert_exporter": "python",
   "pygments_lexer": "ipython3",
   "version": "3.10.16"
  }
 },
 "nbformat": 4,
 "nbformat_minor": 5
}
