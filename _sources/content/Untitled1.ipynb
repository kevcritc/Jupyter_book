{
 "cells": [
  {
   "cell_type": "markdown",
   "id": "32afb222-93fe-45f8-92a3-4688d626a7af",
   "metadata": {},
   "source": [
    "# Equation\n",
    "\n",
    "$$ A= \\epsilon c l$$"
   ]
  },
  {
   "cell_type": "markdown",
   "id": "e12bb660-241d-4e67-a8cf-8d444fcc781c",
   "metadata": {},
   "source": [
    "$ c=\\frac{A_{450}}{\\epsilon_{450} l} $"
   ]
  },
  {
   "cell_type": "code",
   "execution_count": null,
   "id": "a7e1dd26-d5d9-4846-a67f-6aaee63ee982",
   "metadata": {},
   "outputs": [],
   "source": []
  }
 ],
 "metadata": {
  "kernelspec": {
   "display_name": "Python 3 (ipykernel)",
   "language": "python",
   "name": "python3"
  },
  "language_info": {
   "codemirror_mode": {
    "name": "ipython",
    "version": 3
   },
   "file_extension": ".py",
   "mimetype": "text/x-python",
   "name": "python",
   "nbconvert_exporter": "python",
   "pygments_lexer": "ipython3",
   "version": "3.10.9"
  }
 },
 "nbformat": 4,
 "nbformat_minor": 5
}
