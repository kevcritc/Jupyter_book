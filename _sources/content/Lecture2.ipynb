{
 "cells": [
  {
   "cell_type": "markdown",
   "id": "eafba4ed",
   "metadata": {},
   "source": [
    "# 2. The Smallest Things\n",
    "![Lego bricks in a box](images/lego.jpg)  \n",
    "\n",
    "Fig 2.1 Building things up from the bottom is a key point in nanotechnology.  Lego can be used to build anything you want.\n",
    "\n",
    "Bottom-up assembly is a key concept.  Lego is the best toy for this reason, you can build anything you want from basic building blocks.  Lets now consider the smallest building blocks.\n",
    "\n",
    "\n",
    "## 2.1 The basic building blocks - atoms\n",
    "\n",
    "If we take a piece of iron and split it, it's still iron - just a bit smaller.  Imagine if it was possible to keep splitting until it is not posible to split it anymore.  This is idea that the Greeks philosophers where thinking about.  Is it possible to split an infinte number of times or is there a limit (assuming tools is not the limitation).  We will come back to this idea in the next lecture.  For now, we know that atoms are the limit.\n",
    "\n",
    "![A picture of a smiling man with a beard](images/Democritus.jpg)  \n",
    "\n",
    "Fig 2.2   Artists impression of Democritus.\n",
    "\n",
    "### 2.1.1 The Classical View of Atoms\n",
    "\n",
    "![A picture of an atom with electron orbits](images/the_atom.png)  \n",
    "\n",
    "Fig 2.3 A classical atom represetation with a nucleus of protons and neutrons, which are surrounded by electrons.\n",
    "\n",
    "- **Nucleus**: Composed of **protons** (+ve charge) and **neutrons** (neutral).\n",
    "- Surrounded by **electrons** (-ve charge), creating a balance where the number of protons equals the number of electrons.\n",
    "- **Atomic number (Z)**: Number of protons.\n",
    "- **Atomic weight (A)**: Sum of protons and neutrons (**A = N + Z**).\n",
    "\n",
    "- **Proton Mass**: ~1.673 x 10<sup>-27</sup> kg (or 1 atomic mass unit, amu/u).\n",
    "- **Electron Mass**: ~9.110 x 10<sup>-31</sup> kg (electrons are ~2000x lighter than protons).\n",
    "- **Nuclear Radius**: Typically **0.8-10 femtometers (fm)** (1 fm = **10<sup>-15</sup> meters**).\n",
    "- **Scale comparison**: A **1 cm** nucleus corresponds to a **1 km** atom in size.\n"
   ]
  },
  {
   "cell_type": "markdown",
   "id": "1562a897",
   "metadata": {},
   "source": [
    "![an electron orbiting a proton](images/orbital.png)  \n",
    "\n",
    "Fig 2.4 The electron can be thought of as like a planet orbiting a star. "
   ]
  },
  {
   "cell_type": "markdown",
   "id": "90333466",
   "metadata": {},
   "source": [
    "**Key point** The mathematics of a classsically electron orbiting a proton are indentical to a planet orbiting the Sun in our solar system.  This latter solution maths was famously developed Newton who is the father of Mechanics and therefore it is unsuprising that, a couple of hundred years later, when it is applied to the atom it becomes known as'Quantum' Mechanics (QM).  In later lectures we will cover why this first model ultimately fails, but we will cover this as it is useful to understand the concepts and how they have developed. We will address Quantum mechanics in later lectures without worrying too much about the actual mathematics.  We will draw sketches of solutions rather than working about mathematical functions to try to make this topic inclusive.  Physics students will cover these models in detail as part of their core studies, but because of the importance of atoms to nanotechnology, we cannot wait for those QM models to fully explained for this course. \n",
    "\n",
    "\n",
    "### 2.1.2 So How Small is \"Small\"?\n",
    "- The **nanometer scale** involves sizes of **1-100 nm** (1 nm = **10<sup>-9</sup> meters**).\n",
    "- **Atoms** range in size from approximately **0.1-0.4 nm**. A single device or machine that is just a few atoms thick would be around **1 nm** in size.\n",
    "- Understanding scale:\n",
    "  - **1 nm** is to **1 meter** as a **glass marble** is to the **Earth**.\n",
    "\n",
    "Nanotechnology requires assembling **10s to 1000s of atoms** to create functional structures. This is why nanomachines are often at least **1 nm** thick.\n",
    "\n",
    "## 2.2 Checking understanding\n",
    "### 2.2.1 Question: \n",
    "If we took a gold ring and halved it, and the took the half and halved that, such that the gold piece is halved n times. Approximately what is the maxiumum value for n?\n"
   ]
  },
  {
   "cell_type": "markdown",
   "id": "af678ff2",
   "metadata": {},
   "source": [
    "<details>\n",
    "  <summary>**Click for an example solution**</summary>\n",
    "\n",
    "** Potential Solution:**\n",
    "    \n",
    "A ring is about $m_{ring}= 0.010$ kg\n",
    "\n",
    "mass of a single atom= $m_{atom}= 196.96657 \\times 1.66054 e^{-27}$ kg\n",
    "\n",
    "$newmass=\\frac{m_{ring}}{2^n}$\n",
    "\n",
    "therefore set the new mass a the minimum mass it could be.\n",
    "\n",
    "$m_{atom}=\\frac{m_{ring}}{2^n}$\n",
    "\n",
    "$n = \\log_2{\\frac{m_{ring}}{m_{atom}}}$\n",
    "\n",
    "\n",
    "</details>\n",
    "\n",
    "\n",
    "\n",
    "\n",
    "\n"
   ]
  },
  {
   "cell_type": "markdown",
   "id": "b209a09c",
   "metadata": {},
   "source": [
    "### 2.2.2 Question:\n",
    "If a nanometre were the thickness of your fingernail, then what sort of distance would a metre be?"
   ]
  },
  {
   "cell_type": "markdown",
   "id": "d15ce0b4",
   "metadata": {},
   "source": [
    "<details>\n",
    "  <summary>**Click for an example solution**</summary>\n",
    "\n",
    "** Potential Solution:**\n",
    "    \n",
    "Less say a fingernail is 0.5mm\n",
    "    \n",
    "A metre is $10^9$ times larger than a nanometre.\n",
    "    \n",
    "    S0:\n",
    "    \n",
    "$0.5 \\times 10^{-3}\\text{m} \\times 10^9 =5 \\times 10^5 \\text{m} = 500 \\text{km}$\n",
    "    \n",
    "500km is approximately the distance from London to Edinburgh\n",
    "\n",
    "\n",
    "</details>"
   ]
  },
  {
   "cell_type": "code",
   "execution_count": null,
   "id": "0aa1e4e4",
   "metadata": {},
   "outputs": [],
   "source": []
  }
 ],
 "metadata": {
  "kernelspec": {
   "display_name": "Python 3 (ipykernel)",
   "language": "python",
   "name": "python3"
  },
  "language_info": {
   "codemirror_mode": {
    "name": "ipython",
    "version": 3
   },
   "file_extension": ".py",
   "mimetype": "text/x-python",
   "name": "python",
   "nbconvert_exporter": "python",
   "pygments_lexer": "ipython3",
   "version": "3.10.16"
  }
 },
 "nbformat": 4,
 "nbformat_minor": 5
}
