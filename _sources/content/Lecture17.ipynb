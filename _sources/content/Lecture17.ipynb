{
 "cells": [
  {
   "cell_type": "markdown",
   "id": "51c4393d",
   "metadata": {},
   "source": [
    "# 17 From Bionano to Nanomedicine – Lecture Notes\n",
    "\n",
    "## 17.1 Amino Acids – The Basic Units of Proteins\n",
    "Each amino acid consists of:\n",
    "- A central (α) carbon\n",
    "- A **carboxylic acid group** (-COOH)\n",
    "- An **amine group** (-NH₂)\n",
    "- A **hydrogen atom**\n",
    "- A **variable side chain (R-group)**\n",
    "\n",
    "> 💡 Think of amino acids like Lego blocks with different \"side arms\" – the R-group – that give each block its personality.\n",
    "\n",
    "---\n",
    "\n",
    "## 17.2 Protein Structure Hierarchy\n",
    "\n",
    "Proteins are built from amino acids, and their function depends on the structure:\n",
    "\n",
    "### 17.2.1 Primary Structure:\n",
    "- Linear sequence of amino acids\n",
    "- Linked by **peptide bonds** (between -COOH and -NH₂)\n",
    "\n",
    "### 17.2.3 Secondary Structure:\n",
    "- Local folding: **α-helices** and **β-sheets**\n",
    "- Stabilized by **hydrogen bonding**\n",
    "\n",
    "### 17.2.4 Tertiary Structure:\n",
    "- Full 3D shape of a single chain\n",
    "- Determined by interactions between side chains:\n",
    "  - Hydrophobic interactions\n",
    "  - Ionic bonds\n",
    "  - Disulfide bridges\n",
    "\n",
    "### 17.2.5 Quaternary Structure:\n",
    "- Multiple polypeptide chains (subunits) form a larger complex\n",
    "- Example: Hemoglobin (4 subunits)\n",
    "\n",
    "> 🔍 **Key Insight**: A protein’s 3D shape (conformation) directly affects its function – misfolding might cause diseases e.g. has been liked Alzheimer’s but be careful it **might** be sypmtom rather than a cause.\n",
    "\n",
    "---\n",
    "\n"
   ]
  }
 ],
 "metadata": {
  "kernelspec": {
   "display_name": "Python 3 (ipykernel)",
   "language": "python",
   "name": "python3"
  },
  "language_info": {
   "codemirror_mode": {
    "name": "ipython",
    "version": 3
   },
   "file_extension": ".py",
   "mimetype": "text/x-python",
   "name": "python",
   "nbconvert_exporter": "python",
   "pygments_lexer": "ipython3",
   "version": "3.10.16"
  }
 },
 "nbformat": 4,
 "nbformat_minor": 5
}
