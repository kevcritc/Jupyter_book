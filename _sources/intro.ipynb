{
 "cells": [
  {
   "cell_type": "markdown",
   "id": "fbbec145",
   "metadata": {},
   "source": [
    "# Welcome to Jupyter Nanotechnology Course Book\n",
    "\n",
    "![A cartoon of a quantum dot with a band gap](intropicture.png)\n",
    "\n",
    "This book contains 20 Lectures covering topics in nanotechnology and nanomedicine.\n",
    "\n"
   ]
  },
  {
   "cell_type": "code",
   "execution_count": null,
   "id": "a672c6a1-7b82-4eee-9999-87e23fd2dd70",
   "metadata": {},
   "outputs": [],
   "source": []
  }
 ],
 "metadata": {
  "kernelspec": {
   "display_name": "Python 3 (ipykernel)",
   "language": "python",
   "name": "python3"
  },
  "language_info": {
   "codemirror_mode": {
    "name": "ipython",
    "version": 3
   },
   "file_extension": ".py",
   "mimetype": "text/x-python",
   "name": "python",
   "nbconvert_exporter": "python",
   "pygments_lexer": "ipython3",
   "version": "3.10.16"
  }
 },
 "nbformat": 4,
 "nbformat_minor": 5
}
