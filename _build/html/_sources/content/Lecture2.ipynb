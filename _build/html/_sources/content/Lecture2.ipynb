{
 "cells": [
  {
   "cell_type": "markdown",
   "id": "eafba4ed",
   "metadata": {},
   "source": [
    "# 2. The Smallest Things\n",
    "![Lego bricks in a box](images/lego.png)  \n",
    "\n",
    "Fig 2.1 Building things up from the bottom is a key point in nanotechnology.  Lego can be used to build anything you want.\n",
    "\n",
    "Bottom-up assembly is a key concept.  Lego is the best toy for this reason, you can build anything you want from basic building blocks.  Lets now consider the smallest building blocks.\n",
    "\n",
    "\n",
    "## 2.1 The basic building blocks - atoms\n",
    "\n",
    "If we take a piece of iron and split it, it's still iron - just a bit smaller.  Imagine if it was possible to keep splitting until it is not posible to split it anymore.  This is idea that the Greeks philosophers where thinking about.  Is it possible to split an infinte number of times or is there a limit (assuming tools is not the limitation).  We will come back to this idea in the next lecture.  For now, we know that atoms are the limit.\n",
    "\n",
    "![A picture of a smiling man with a beard](images/Democritus.png)  \n",
    "\n",
    "Fig 2.2   Artists impression of Democritus.\n",
    "\n",
    "### 2.1.1 The Classical View of Atoms\n",
    "\n",
    "![A picture of an atom with electron orbits](images/the_atom.png)  \n",
    "\n",
    "Fig 2.3 A classical atom represetation with a nucleus of protons and neutrons, which are surrounded by electrons.\n",
    "\n",
    "- **Nucleus**: Composed of **protons** (+ve charge) and **neutrons** (neutral).\n",
    "- Surrounded by **electrons** (-ve charge), creating a balance where the number of protons equals the number of electrons.\n",
    "- **Atomic number (Z)**: Number of protons which is equal to the number of electrons.\n",
    "- **Atomic weight (A)**: Sum of protons and neutrons (**A = N + Z**).\n",
    "\n",
    "- **Proton Mass**: ~1.673 x 10<sup>-27</sup> kg (or 1 atomic mass unit, amu/u).\n",
    "- **Electron Mass**: ~9.110 x 10<sup>-31</sup> kg (electrons are ~2000x lighter than protons).\n",
    "- **Nuclear Radius**: Typically **0.8-10 femtometers (fm)** (1 fm = **10<sup>-15</sup> meters**).\n",
    "- **Scale comparison**: A **1 cm** nucleus corresponds to a **1 km** atom in size.\n"
   ]
  },
  {
   "cell_type": "markdown",
   "id": "1562a897",
   "metadata": {},
   "source": [
    "![an electron orbiting a proton](images/orbital.png)  \n",
    "\n",
    "Fig 2.4 The electron can be thought of as like a planet orbiting a star. "
   ]
  },
  {
   "cell_type": "markdown",
   "id": "90333466",
   "metadata": {},
   "source": [
    "```{note}\n",
    "A Key point. The mathematics of a classsically electron orbiting a proton are indentical to a planet orbiting the Sun in our solar system.  This latter solution maths was famously developed Newton who is the father of Mechanics and therefore it is unsuprising that, a couple of hundred years later, when it is applied to the atom it becomes known as'Quantum' Mechanics (QM).  In later lectures we will cover why this first model ultimately fails, but we will cover this as it is useful to understand the concepts and how they have developed. We will address Quantum mechanics in later lectures without worrying too much about the actual mathematics.  We will draw sketches of solutions rather than working about mathematical functions to try to make this topic inclusive.  Physics students will cover these models in detail as part of their core studies, but because of the importance of atoms to nanotechnology, we cannot wait for those QM models to fully explained for this course. \n",
    "```\n",
    "\n",
    "### 2.1.2 So How Small is \"Small\"?\n",
    "- The **nanometer scale** involves sizes of **1-100 nm** (1 nm = **10<sup>-9</sup> meters**).\n",
    "- **Atoms** range in size from approximately **0.1-0.4 nm**. A single device or machine that is just a few atoms thick would be around **1 nm** in size.\n",
    "- Understanding scale:\n",
    "  - **1 nm** is to **1 meter** as a **glass marble** is to the **Earth**.\n",
    "\n",
    "Nanotechnology requires assembling **10s to 1000s of atoms** to create functional structures. This is why nanomachines are often at least **1 nm** thick.\n",
    "\n",
    "## 2.2 Checking understanding\n",
    "### 2.2.1 Question: \n",
    "If we took a gold ring and halved it, and the took the half and halved that, such that the gold piece is halved n times. Approximately what is the maxiumum value for n?\n"
   ]
  },
  {
   "cell_type": "markdown",
   "id": "af678ff2",
   "metadata": {},
   "source": [
    "<details>\n",
    "  <summary>**Click for an example solution**</summary>\n",
    "\n",
    "** Potential Solution:**\n",
    "    \n",
    "A ring is about $m_{ring}= 0.010$ kg\n",
    "\n",
    "mass of a single atom= $m_{atom}= 196.96657 \\times 1.66054 e^{-27}$ kg\n",
    "\n",
    "$newmass=\\frac{m_{ring}}{2^n}$\n",
    "\n",
    "therefore set the new mass a the minimum mass it could be.\n",
    "\n",
    "$m_{atom}=\\frac{m_{ring}}{2^n}$\n",
    "\n",
    "$n = \\log_2{\\frac{m_{ring}}{m_{atom}}}$\n",
    "\n",
    "\n",
    "</details>\n",
    "\n",
    "\n",
    "\n",
    "\n",
    "\n"
   ]
  },
  {
   "cell_type": "markdown",
   "id": "b209a09c",
   "metadata": {},
   "source": [
    "### 2.2.2 Question:\n",
    "If a nanometre were the thickness of your fingernail, then what sort of distance would a metre be?"
   ]
  },
  {
   "cell_type": "markdown",
   "id": "d15ce0b4",
   "metadata": {},
   "source": [
    "<details>\n",
    "  <summary>**Click for an example solution**</summary>\n",
    "\n",
    "** Potential Solution:**\n",
    "    \n",
    "Less say a fingernail is 0.5mm\n",
    "    \n",
    "A metre is $10^9$ times larger than a nanometre.\n",
    "    \n",
    "    S0:\n",
    "    \n",
    "$0.5 \\times 10^{-3}\\text{m} \\times 10^9 =5 \\times 10^5 \\text{m} = 500 \\text{km}$\n",
    "    \n",
    "500km is approximately the distance from London to Edinburgh\n",
    "\n",
    "\n",
    "</details>"
   ]
  },
  {
   "cell_type": "code",
   "execution_count": 22,
   "id": "041c7b38-44a2-46ac-bb86-60700d30f3bb",
   "metadata": {
    "tags": [
     "hide-input"
    ]
   },
   "outputs": [
    {
     "data": {
      "text/html": [
       "\n",
       "<style>\n",
       ".widget-radio-box label {\n",
       "    white-space: normal !important;  /* Allow wrapping */\n",
       "    display: block !important;       /* Force block layout */\n",
       "    margin: 6px 0px;                 /* Add vertical spacing */\n",
       "}\n",
       ".widget-label {\n",
       "    font-weight: bold;\n",
       "}\n",
       "</style>\n"
      ],
      "text/plain": [
       "<IPython.core.display.HTML object>"
      ]
     },
     "metadata": {},
     "output_type": "display_data"
    }
   ],
   "source": [
    "import ipywidgets as widgets\n",
    "from IPython.display import display, Markdown, clear_output, HTML\n",
    "\n",
    "display(HTML(\"\"\"\n",
    "<style>\n",
    ".widget-radio-box label {\n",
    "    white-space: normal !important;  /* Allow wrapping */\n",
    "    display: block !important;       /* Force block layout */\n",
    "    margin: 6px 0px;                 /* Add vertical spacing */\n",
    "}\n",
    ".widget-label {\n",
    "    font-weight: bold;\n",
    "}\n",
    "</style>\n",
    "\"\"\"))"
   ]
  },
  {
   "cell_type": "code",
   "execution_count": 23,
   "id": "03b6cf64-2c08-40e8-a3b2-e34ab246f30e",
   "metadata": {
    "tags": [
     "hide-input"
    ]
   },
   "outputs": [
    {
     "data": {
      "application/vnd.jupyter.widget-view+json": {
       "model_id": "15f8d45224914af485972266dc0965d7",
       "version_major": 2,
       "version_minor": 0
      },
      "text/plain": [
       "HTML(value='<b>Why is Lego used as a metaphor in nanotechnology?</b>')"
      ]
     },
     "metadata": {},
     "output_type": "display_data"
    },
    {
     "data": {
      "application/vnd.jupyter.widget-view+json": {
       "model_id": "beba695dd01b4fba8f0c62b7534824d8",
       "version_major": 2,
       "version_minor": 0
      },
      "text/plain": [
       "RadioButtons(description='Answer:', layout=Layout(width='auto'), options=('Because it is colourful and fun', '…"
      ]
     },
     "metadata": {},
     "output_type": "display_data"
    },
    {
     "data": {
      "application/vnd.jupyter.widget-view+json": {
       "model_id": "504050066b934cb884cd2590f2aa76ab",
       "version_major": 2,
       "version_minor": 0
      },
      "text/plain": [
       "Output()"
      ]
     },
     "metadata": {},
     "output_type": "display_data"
    }
   ],
   "source": [
    "q1 = widgets.HTML(\"<b>Why is Lego used as a metaphor in nanotechnology?</b>\")\n",
    "q1_options = widgets.RadioButtons(\n",
    "    options=[\n",
    "        \"Because it is colourful and fun\",\n",
    "        \"Because it can be used to build tall towers\",\n",
    "        \"You can build any structures from simple blocks\"\n",
    "    ],\n",
    "    layout=widgets.Layout(width='auto'),  # Prevent forced shrinking\n",
    "    style={'description_width': 'initial'},\n",
    "    description='Answer:',\n",
    "    disabled=False\n",
    ")\n",
    "q1_output = widgets.Output()\n",
    "\n",
    "def q1_check(change):\n",
    "    q1_output.clear_output()\n",
    "    with q1_output:\n",
    "        if change['new'] == \"Because you can build complex structures from simple blocks\":\n",
    "            display(Markdown(\"✅ **Correct!** This reflects the concept of bottom-up assembly in nanotech.\"))\n",
    "        else:\n",
    "            display(Markdown(\"❌ **Try again.** Think about the idea of building from small building blocks.\"))\n",
    "\n",
    "q1_options.observe(q1_check, names='value')\n",
    "display(q1, q1_options, q1_output)"
   ]
  },
  {
   "cell_type": "code",
   "execution_count": 24,
   "id": "f36b6d2a-0954-4ac7-89df-ad436ceb7e71",
   "metadata": {
    "tags": [
     "hide-input"
    ]
   },
   "outputs": [
    {
     "data": {
      "application/vnd.jupyter.widget-view+json": {
       "model_id": "a6b9795a7f3b40789ceb111448418fcf",
       "version_major": 2,
       "version_minor": 0
      },
      "text/plain": [
       "HTML(value='<b>Which statement best describes the classical model of the atom?</b>')"
      ]
     },
     "metadata": {},
     "output_type": "display_data"
    },
    {
     "data": {
      "application/vnd.jupyter.widget-view+json": {
       "model_id": "5a4d2fa5c2fb4a7591edc044aea3dcb0",
       "version_major": 2,
       "version_minor": 0
      },
      "text/plain": [
       "RadioButtons(description='Answer:', layout=Layout(width='auto'), options=('Electrons are embedded inside the n…"
      ]
     },
     "metadata": {},
     "output_type": "display_data"
    },
    {
     "data": {
      "application/vnd.jupyter.widget-view+json": {
       "model_id": "931e945a881b4dec90787f8d62efbd25",
       "version_major": 2,
       "version_minor": 0
      },
      "text/plain": [
       "Output()"
      ]
     },
     "metadata": {},
     "output_type": "display_data"
    }
   ],
   "source": [
    "q2 = widgets.HTML(\"<b>Which statement best describes the classical model of the atom?</b>\")\n",
    "q2_options = widgets.RadioButtons(\n",
    "    options=[\n",
    "        \"Electrons are embedded inside the nucleus\",\n",
    "        \"Electrons orbit a nucleus made of protons and neutrons\",\n",
    "        \"Atoms have no internal structure\"\n",
    "    ],\n",
    "    layout=widgets.Layout(width='auto'),  # Prevent forced shrinking\n",
    "    style={'description_width': 'initial'},\n",
    "    description='Answer:',\n",
    "    disabled=False\n",
    ")\n",
    "q2_output = widgets.Output()\n",
    "\n",
    "def q2_check(change):\n",
    "    q2_output.clear_output()\n",
    "    with q2_output:\n",
    "        if change['new'] == \"Electrons orbit a nucleus made of protons and neutrons\":\n",
    "            display(Markdown(\"✅ **Correct!** This is the classical orbit model of atoms.\"))\n",
    "        else:\n",
    "            display(Markdown(\"❌ **Incorrect.** Review Fig 2.3 and the classical description.\"))\n",
    "\n",
    "q2_options.observe(q2_check, names='value')\n",
    "display(q2, q2_options, q2_output)\n"
   ]
  },
  {
   "cell_type": "code",
   "execution_count": 25,
   "id": "6fdc5a4d-fce0-4956-bd66-589dc36b63b6",
   "metadata": {
    "tags": [
     "hide-input"
    ]
   },
   "outputs": [
    {
     "data": {
      "application/vnd.jupyter.widget-view+json": {
       "model_id": "825725155da0422cbca4583352821a21",
       "version_major": 2,
       "version_minor": 0
      },
      "text/plain": [
       "HTML(value='<b>Approximately how large is a single atom?</b>')"
      ]
     },
     "metadata": {},
     "output_type": "display_data"
    },
    {
     "data": {
      "application/vnd.jupyter.widget-view+json": {
       "model_id": "427471a8b3304d8587559e6e7c2ab245",
       "version_major": 2,
       "version_minor": 0
      },
      "text/plain": [
       "RadioButtons(description='Answer:', layout=Layout(width='auto'), options=('1 nm', '0.1 micrometer (0.1 µm)', '…"
      ]
     },
     "metadata": {},
     "output_type": "display_data"
    },
    {
     "data": {
      "application/vnd.jupyter.widget-view+json": {
       "model_id": "e5c360ef48b74bdf8c2bf9f067441527",
       "version_major": 2,
       "version_minor": 0
      },
      "text/plain": [
       "Output()"
      ]
     },
     "metadata": {},
     "output_type": "display_data"
    }
   ],
   "source": [
    "q3 = widgets.HTML(\"<b>Approximately how large is a single atom?</b>\")\n",
    "q3_options = widgets.RadioButtons(\n",
    "    options=[\n",
    "        \"1 nm\",\n",
    "        \"0.1 micrometer (0.1 µm)\",\n",
    "        \"0.1 to 0.4 nanometers (nm)\"\n",
    "    ],\n",
    "    layout=widgets.Layout(width='auto'),  # Prevent forced shrinking\n",
    "    style={'description_width': 'initial'},\n",
    "    description='Answer:',\n",
    "    disabled=False\n",
    ")\n",
    "q3_output = widgets.Output()\n",
    "\n",
    "def q3_check(change):\n",
    "    q3_output.clear_output()\n",
    "    with q3_output:\n",
    "        if change['new'] == \"0.1 to 0.4 nanometers (nm)\":\n",
    "            display(Markdown(\"✅ **Correct!** Atom sizes are on the sub-nanometer scale.\"))\n",
    "        else:\n",
    "            display(Markdown(\"❌ **Incorrect.** Consider how small 'nano' really is.\"))\n",
    "q3_options.observe(q3_check, names='value')\n",
    "display(q3, q3_options, q3_output)"
   ]
  },
  {
   "cell_type": "code",
   "execution_count": 20,
   "id": "d4e66daa-b871-4c57-9716-029ef5bbd1b6",
   "metadata": {
    "tags": [
     "hide-input"
    ]
   },
   "outputs": [
    {
     "data": {
      "application/vnd.jupyter.widget-view+json": {
       "model_id": "d5685235bb6e4db9b60485cfc2794d80",
       "version_major": 2,
       "version_minor": 0
      },
      "text/plain": [
       "HTML(value='<b>What does the Z number tell us?</b>')"
      ]
     },
     "metadata": {},
     "output_type": "display_data"
    },
    {
     "data": {
      "application/vnd.jupyter.widget-view+json": {
       "model_id": "c6ac05a1709e4d28b901568ab9a36b6f",
       "version_major": 2,
       "version_minor": 0
      },
      "text/plain": [
       "RadioButtons(description='Answer:', layout=Layout(width='auto'), options=('The atomic weight', 'The number of …"
      ]
     },
     "metadata": {},
     "output_type": "display_data"
    },
    {
     "data": {
      "application/vnd.jupyter.widget-view+json": {
       "model_id": "765ad560cc8d4b7b873a491207b46ece",
       "version_major": 2,
       "version_minor": 0
      },
      "text/plain": [
       "Output()"
      ]
     },
     "metadata": {},
     "output_type": "display_data"
    }
   ],
   "source": [
    "q4 = widgets.HTML(\"<b>What does the Z number tell us?</b>\")\n",
    "q4_options = widgets.RadioButtons(\n",
    "    options=[\n",
    "        \"The atomic weight\",\n",
    "        \"The number of electrons\",\n",
    "        \"The number of protons and neutrons\"\n",
    "    ],\n",
    "    layout=widgets.Layout(width='auto'),  # Prevent forced shrinking\n",
    "    style={'description_width': 'initial'},\n",
    "    description='Answer:',\n",
    "    disabled=False\n",
    ")\n",
    "q4_output = widgets.Output()\n",
    "\n",
    "def q4_check(change):\n",
    "    q4_output.clear_output()\n",
    "    with q4_output:\n",
    "        if change['new'] == \"The number of electrons\":\n",
    "            display(Markdown(\"✅ **Correct!** It tells us the number of protons or electrons.\"))\n",
    "        else:\n",
    "            display(Markdown(\"❌ **Incorrect.** Check the notes\"))\n",
    "q3_options.observe(q4_check, names='value')\n",
    "display(q4, q4_options, q4_output)"
   ]
  },
  {
   "cell_type": "code",
   "execution_count": null,
   "id": "d9963d76-20fd-4301-9844-11b167f7dd7b",
   "metadata": {},
   "outputs": [],
   "source": []
  }
 ],
 "metadata": {
  "kernelspec": {
   "display_name": "Python 3 (ipykernel)",
   "language": "python",
   "name": "python3"
  },
  "language_info": {
   "codemirror_mode": {
    "name": "ipython",
    "version": 3
   },
   "file_extension": ".py",
   "mimetype": "text/x-python",
   "name": "python",
   "nbconvert_exporter": "python",
   "pygments_lexer": "ipython3",
   "version": "3.10.9"
  }
 },
 "nbformat": 4,
 "nbformat_minor": 5
}
